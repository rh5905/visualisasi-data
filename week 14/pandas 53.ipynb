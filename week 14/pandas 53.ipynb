{
 "cells": [
  {
   "cell_type": "markdown",
   "id": "f7ab58b4-8d49-4059-a0e1-0d4c783b692e",
   "metadata": {},
   "source": [
    "# Import Modules"
   ]
  },
  {
   "cell_type": "code",
   "execution_count": 1,
   "id": "072d5d57-67ed-41e5-b529-161fb2ca035a",
   "metadata": {},
   "outputs": [
    {
     "name": "stdout",
     "output_type": "stream",
     "text": [
      "2.2.2\n"
     ]
    }
   ],
   "source": [
    "import pandas as pd\n",
    "\n",
    "print(pd.__version__)"
   ]
  },
  {
   "cell_type": "markdown",
   "id": "8e99e7a7-3800-40c4-aa35-e208b9de330c",
   "metadata": {},
   "source": [
    "# Persiapan Data Frame"
   ]
  },
  {
   "cell_type": "code",
   "execution_count": 3,
   "id": "f6e23997-f54d-4354-bf48-98ca5090b1b3",
   "metadata": {},
   "outputs": [
    {
     "data": {
      "text/html": [
       "<div>\n",
       "<style scoped>\n",
       "    .dataframe tbody tr th:only-of-type {\n",
       "        vertical-align: middle;\n",
       "    }\n",
       "\n",
       "    .dataframe tbody tr th {\n",
       "        vertical-align: top;\n",
       "    }\n",
       "\n",
       "    .dataframe thead th {\n",
       "        text-align: right;\n",
       "    }\n",
       "</style>\n",
       "<table border=\"1\" class=\"dataframe\">\n",
       "  <thead>\n",
       "    <tr style=\"text-align: right;\">\n",
       "      <th></th>\n",
       "      <th>hobi</th>\n",
       "    </tr>\n",
       "  </thead>\n",
       "  <tbody>\n",
       "    <tr>\n",
       "      <th>0</th>\n",
       "      <td>jogging</td>\n",
       "    </tr>\n",
       "    <tr>\n",
       "      <th>1</th>\n",
       "      <td>mancing</td>\n",
       "    </tr>\n",
       "    <tr>\n",
       "      <th>2</th>\n",
       "      <td>renang</td>\n",
       "    </tr>\n",
       "    <tr>\n",
       "      <th>3</th>\n",
       "      <td>mancing</td>\n",
       "    </tr>\n",
       "    <tr>\n",
       "      <th>4</th>\n",
       "      <td>mancing</td>\n",
       "    </tr>\n",
       "    <tr>\n",
       "      <th>5</th>\n",
       "      <td>baca</td>\n",
       "    </tr>\n",
       "    <tr>\n",
       "      <th>6</th>\n",
       "      <td>baca</td>\n",
       "    </tr>\n",
       "    <tr>\n",
       "      <th>7</th>\n",
       "      <td>mancing</td>\n",
       "    </tr>\n",
       "    <tr>\n",
       "      <th>8</th>\n",
       "      <td>fotograsi</td>\n",
       "    </tr>\n",
       "    <tr>\n",
       "      <th>9</th>\n",
       "      <td>mancing</td>\n",
       "    </tr>\n",
       "    <tr>\n",
       "      <th>10</th>\n",
       "      <td>camping</td>\n",
       "    </tr>\n",
       "  </tbody>\n",
       "</table>\n",
       "</div>"
      ],
      "text/plain": [
       "         hobi\n",
       "0     jogging\n",
       "1     mancing\n",
       "2      renang\n",
       "3     mancing\n",
       "4     mancing\n",
       "5        baca\n",
       "6        baca\n",
       "7     mancing\n",
       "8   fotograsi\n",
       "9     mancing\n",
       "10    camping"
      ]
     },
     "execution_count": 3,
     "metadata": {},
     "output_type": "execute_result"
    }
   ],
   "source": [
    "d = {'hobi':['jogging', 'mancing', 'renang',\n",
    "             'mancing', 'mancing', 'baca', \n",
    "             'baca', 'mancing', 'fotograsi', \n",
    "             'mancing', 'camping']}\n",
    "\n",
    "df = pd.DataFrame(d)\n",
    "df"
   ]
  },
  {
   "cell_type": "markdown",
   "id": "b72424d5-cf72-4616-8818-5bb348af10f9",
   "metadata": {},
   "source": [
    "# Membuat kategori baru berdasarkan threshold (ambang batas)"
   ]
  },
  {
   "cell_type": "code",
   "execution_count": 7,
   "id": "a0a0a25b-70ab-476c-9c02-b7aa2e10014c",
   "metadata": {},
   "outputs": [
    {
     "data": {
      "text/plain": [
       "hobi\n",
       "mancing      5\n",
       "baca         2\n",
       "jogging      1\n",
       "renang       1\n",
       "fotograsi    1\n",
       "camping      1\n",
       "Name: count, dtype: int64"
      ]
     },
     "execution_count": 7,
     "metadata": {},
     "output_type": "execute_result"
    }
   ],
   "source": [
    "df['hobi'].value_counts()"
   ]
  },
  {
   "cell_type": "code",
   "execution_count": 9,
   "id": "1378d05a-94dd-49e0-b98b-e0ebeec46963",
   "metadata": {},
   "outputs": [
    {
     "data": {
      "text/plain": [
       "hobi\n",
       "mancing      0.454545\n",
       "baca         0.181818\n",
       "jogging      0.090909\n",
       "renang       0.090909\n",
       "fotograsi    0.090909\n",
       "camping      0.090909\n",
       "Name: proportion, dtype: float64"
      ]
     },
     "execution_count": 9,
     "metadata": {},
     "output_type": "execute_result"
    }
   ],
   "source": [
    "persentase = df['hobi'].value_counts(normalize=True)\n",
    "persentase"
   ]
  },
  {
   "cell_type": "code",
   "execution_count": 11,
   "id": "08a94b7d-76dc-4078-9c88-e8fc6b254773",
   "metadata": {},
   "outputs": [
    {
     "data": {
      "text/plain": [
       "Index(['jogging', 'renang', 'fotograsi', 'camping'], dtype='object', name='hobi')"
      ]
     },
     "execution_count": 11,
     "metadata": {},
     "output_type": "execute_result"
    }
   ],
   "source": [
    "threshold = 0.1\n",
    "hobi_lain = persentase[persentase < threshold].index\n",
    "hobi_lain"
   ]
  },
  {
   "cell_type": "code",
   "execution_count": 13,
   "id": "f350a3bf-9c2b-4185-b5c5-a3d0f2351705",
   "metadata": {},
   "outputs": [
    {
     "data": {
      "text/plain": [
       "0     lainnya\n",
       "1     mancing\n",
       "2     lainnya\n",
       "3     mancing\n",
       "4     mancing\n",
       "5        baca\n",
       "6        baca\n",
       "7     mancing\n",
       "8     lainnya\n",
       "9     mancing\n",
       "10    lainnya\n",
       "Name: hobi, dtype: object"
      ]
     },
     "execution_count": 13,
     "metadata": {},
     "output_type": "execute_result"
    }
   ],
   "source": [
    "df['hobi'] = df['hobi'].replace(hobi_lain, 'lainnya')\n",
    "df['hobi']"
   ]
  },
  {
   "cell_type": "code",
   "execution_count": 15,
   "id": "4b8e065a-8940-44cc-afb5-8b37b48e180d",
   "metadata": {},
   "outputs": [
    {
     "data": {
      "text/plain": [
       "hobi\n",
       "mancing    0.454545\n",
       "lainnya    0.363636\n",
       "baca       0.181818\n",
       "Name: proportion, dtype: float64"
      ]
     },
     "execution_count": 15,
     "metadata": {},
     "output_type": "execute_result"
    }
   ],
   "source": [
    "df['hobi'].value_counts(normalize=True)"
   ]
  }
 ],
 "metadata": {
  "kernelspec": {
   "display_name": "Python 3 (ipykernel)",
   "language": "python",
   "name": "python3"
  },
  "language_info": {
   "codemirror_mode": {
    "name": "ipython",
    "version": 3
   },
   "file_extension": ".py",
   "mimetype": "text/x-python",
   "name": "python",
   "nbconvert_exporter": "python",
   "pygments_lexer": "ipython3",
   "version": "3.12.3"
  }
 },
 "nbformat": 4,
 "nbformat_minor": 5
}
